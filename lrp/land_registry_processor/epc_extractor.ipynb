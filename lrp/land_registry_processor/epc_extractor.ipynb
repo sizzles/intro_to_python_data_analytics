{
 "cells": [
  {
   "cell_type": "code",
   "execution_count": null,
   "metadata": {},
   "outputs": [],
   "source": [
    "import os\n",
    "import zipfile\n",
    "import pandas as pd\n",
    "from tqdm import tqdm\n",
    "from multiprocessing import Process, Queue, Lock, cpu_count"
   ]
  },
  {
   "cell_type": "code",
   "execution_count": null,
   "metadata": {},
   "outputs": [],
   "source": [
    "def process_csv_file(csv_file):\n",
    "    df = pd.read_csv(csv_file, usecols=['LMK_KEY', 'BUILDING_REFERENCE_NUMBER', 'LODGEMENT_DATE', 'ADDRESS1', 'ADDRESS2', 'POSTCODE', 'NUMBER_HABITABLE_ROOMS', 'WINDOWS_DESCRIPTION', 'FLOOR_LEVEL', 'PROPERTY_TYPE', 'INSPECTION_DATE', 'CURRENT_ENERGY_EFFICIENCY', 'POTENTIAL_ENERGY_EFFICIENCY', 'BUILT_FORM', 'TOTAL_FLOOR_AREA', 'MAIN_FUEL', 'ADDRESS'])\n",
    "    \n",
    "    # Split 'ADDRESS1' by comma and create 'PAON' and 'SAON' columns\n",
    "    address_split = df['ADDRESS1'].str.split(',', expand=True).fillna('')\n",
    "    df['PAON'] = address_split[0].str.strip()\n",
    "    df['SAON'] = address_split[1].str.strip()\n",
    "    \n",
    "    return df\n",
    "def append_to_csv(df, output_csv, lock):\n",
    "    with lock:\n",
    "        header = not os.path.exists(output_csv)\n",
    "        df.to_csv(output_csv, mode='a', header=header, index=False)\n",
    "\n",
    "def producer(zip_file, queue):\n",
    "    with zipfile.ZipFile(zip_file, 'r') as zip_ref:\n",
    "        for file in tqdm(zip_ref.namelist(), desc='Processing CSV files'):\n",
    "            if file.endswith('/certificates.csv'):\n",
    "                with zip_ref.open(file) as csv_file:\n",
    "                    try:\n",
    "                        df = process_csv_file(csv_file)\n",
    "                        queue.put(df)\n",
    "                    except Exception as e:\n",
    "                        print(f\"Error processing {file}: {e}\")\n",
    "    queue.put(None)  # Signal to the consumer that the producer is done\n",
    "\n",
    "def consumer(queue, output_csv, lock):\n",
    "    while True:\n",
    "        df = queue.get()\n",
    "        if df is None:\n",
    "            break\n",
    "        append_to_csv(df, output_csv, lock)\n",
    "\n",
    "def combine_epc_csv_files_parallel(zip_file, output_csv):\n",
    "    queue = Queue(maxsize=10)\n",
    "    lock = Lock()\n",
    "\n",
    "    producer_process = Process(target=producer, args=(zip_file, queue))\n",
    "    consumer_process = Process(target=consumer, args=(queue, output_csv, lock))\n",
    "\n",
    "    producer_process.start()\n",
    "    consumer_process.start()\n",
    "\n",
    "    producer_process.join()\n",
    "    consumer_process.join()\n",
    "\n",
    "    print(f\"Combined data saved to {output_csv}\")\n"
   ]
  },
  {
   "cell_type": "code",
   "execution_count": null,
   "metadata": {},
   "outputs": [],
   "source": [
    "zip_file = 'all-domestic-certificates.zip'\n",
    "output_csv = 'combined_epc_data.csv'\n",
    "combine_epc_csv_files_parallel(zip_file, output_csv)"
   ]
  }
 ],
 "metadata": {
  "language_info": {
   "name": "python"
  },
  "orig_nbformat": 4
 },
 "nbformat": 4,
 "nbformat_minor": 2
}
